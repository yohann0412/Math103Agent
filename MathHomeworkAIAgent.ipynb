{
  "nbformat": 4,
  "nbformat_minor": 0,
  "metadata": {
    "colab": {
      "provenance": [],
      "authorship_tag": "ABX9TyNf+SCO/mZdCtQFQ+QMXLDn",
      "include_colab_link": true
    },
    "kernelspec": {
      "name": "python3",
      "display_name": "Python 3"
    },
    "language_info": {
      "name": "python"
    }
  },
  "cells": [
    {
      "cell_type": "markdown",
      "metadata": {
        "id": "view-in-github",
        "colab_type": "text"
      },
      "source": [
        "<a href=\"https://colab.research.google.com/github/yohann0412/Math103Agent/blob/main/MathHomeworkAIAgent.ipynb\" target=\"_parent\"><img src=\"https://colab.research.google.com/assets/colab-badge.svg\" alt=\"Open In Colab\"/></a>"
      ]
    },
    {
      "cell_type": "code",
      "execution_count": null,
      "metadata": {
        "id": "uR4cuesDzguO"
      },
      "outputs": [],
      "source": [
        "SYSTEM_PROMPT = '''\n",
        "\n",
        "\n",
        "'''"
      ]
    },
    {
      "cell_type": "code",
      "source": [
        "PROOF_ATTEMPT_PROMPT = ''' You are now writing a full proof of the abstract algebra problem using the chosen strategy. Your job is only to write the proof, clearly and rigorously.\n",
        "\n",
        "Follow these constraints:\n",
        "- Be explicit in your reasoning.\n",
        "- Do not skip steps.\n",
        "- Assume the reader knows abstract algebra, but write with clarity.\n",
        "- avoid circular reasoning or any logical fallacies\n",
        "\n",
        "Do not reflect on the quality of the proof. Do not critique it. Just output the best version of the proof you can.\n",
        "\n",
        "\n",
        "\n",
        "'''"
      ],
      "metadata": {
        "id": "CEVZRJu1ztvS"
      },
      "execution_count": null,
      "outputs": []
    },
    {
      "cell_type": "code",
      "source": [
        "BREAKDOWN_PROMPT = '''\n",
        "You are an abstract algebra problem solver. Your only task is to break down the problem into clearly defined parts.\n",
        "\n",
        "Step 1: Categorize the problem — what type of problem is it? (e.g. proving irreducibility, finding ideals, checking if something is a PID, etc.)\n",
        "\n",
        "Step 2: Preparse — what are the key objects involved (rings, elements, ideals, etc.)? What definitions or theorems might be relevant?\n",
        "\n",
        "Step 3: Rephrase the goal in your own words, making it crystal clear what must be proven.\n",
        "\n",
        "Only do the above three things. Do not suggest ways to solve it. Do not do any algebra.\n",
        "\n",
        "The problem is:\n",
        "\n",
        "'''"
      ],
      "metadata": {
        "id": "IcBvzt00FtMy"
      },
      "execution_count": null,
      "outputs": []
    },
    {
      "cell_type": "code",
      "source": [
        "IDENTIFY_AND_RANK_PROMPT = '''\n",
        "\n",
        "You are continuing from a prior breakdown of an abstract algebra problem. Your task is to identify **distinct** ways to attempt a solution — no more than 3.\n",
        "\n",
        "For each strategy:\n",
        "- Give a 1-line name for the method.\n",
        "- Give a 1–2 sentence explanation of how the method would be used to attempt the proof.\n",
        "\n",
        "Then, rank the strategies from most promising to least promising. Use criteria such as alignment with the problem type, likelihood of success, and simplicity.\n",
        "\n",
        "Do not perform any steps of the proof. Only identify and rank strategies.\n",
        "\n",
        "I will send the problem first, followed by the breakdown.\n",
        "\n",
        "Based on your reasoning, return the best proof strategy, with a brief, clear explanation of how to do it.\n",
        "'''"
      ],
      "metadata": {
        "id": "jZd6agZnFx0E"
      },
      "execution_count": null,
      "outputs": []
    },
    {
      "cell_type": "code",
      "source": [
        "CRITIQUE_PROMPT = '''\n",
        "You are now evaluating a proof of an abstract algebra problem. Your task is only to critique it.\n",
        "\n",
        "Check for:\n",
        "- Logical errors\n",
        "- Gaps or missing justifications\n",
        "- Use of incorrect definitions\n",
        "- Any unclear or imprecise statements\n",
        "\n",
        "At the end, answer these questions:\n",
        "- Is anything majorly wrong with this proof? (Yes/No)\n",
        "- If yes, should we attempt a different proof strategy instead?\n",
        "\n",
        "If after your analysis, the answer to both questions is no, explicitly say \"there is nothing wrong with this\" and nothing else.\n",
        "Do not propose fixes. Just critique.\n",
        "\n",
        "'''"
      ],
      "metadata": {
        "id": "vpfkHXUdF0i-"
      },
      "execution_count": null,
      "outputs": []
    },
    {
      "cell_type": "markdown",
      "source": [
        "# How do you solve a math equation?\n",
        "\n",
        "1. CATEGORIZE IT INTO A TYPE OF PROBLEM\n",
        "2. PREPARSE THE PROBLEM - figure out what the 'objects' are, what we're broadly dealing with.\n",
        "Once the category of the problem is clear, and we have an idea of the tools we are dealing with:\n",
        "- break down steps to prove the question\n",
        "- understand all fundamental properties of the object(s) we are dealing with\n",
        "- proceed in logical steps, ensuring each step builds on the previous, with no skips or fallacies\n",
        "- verify that the goal was achieved and that all assumptions were used or acknowledged"
      ],
      "metadata": {
        "id": "1mYK09MBz-lK"
      }
    },
    {
      "cell_type": "markdown",
      "source": [
        "## Agent properties:\n",
        "- System prompt\n",
        "- messages\n",
        "- breakdown of question, including understanding whats going on\n",
        "- the actual solution\n",
        "- the edge case detector / rigor detector\n",
        "- reviewing the math and rewriting it. repeating this till we have a solution that is satisfactory."
      ],
      "metadata": {
        "id": "j6mm48Ob4fuN"
      }
    },
    {
      "cell_type": "markdown",
      "source": [
        "**First node** -  breakdown the question\\\n",
        "**Second Node** - start thinking of some ways to do it\\\n",
        "**Third node** - rank the ways to solve it\\\n",
        "**Fourth node** - write out the proof to solve it\\\n",
        "**Fifth node** - critique the proof, is there anything wrong with it? rigor, clarity, communication etc.\\\n",
        "send it back to the previous node, till we either reach the turn limit or its saying theres no proper issues. Ask it if theres something majorly wrong, and if so, we can use another proof technique.\n",
        "Return.\n"
      ],
      "metadata": {
        "id": "lrcssC7I5iZh"
      }
    },
    {
      "cell_type": "code",
      "source": [
        "from openai import OpenAI\n",
        "import os\n",
        "from google.colab import userdata\n",
        "OPENAI_API_KEY = userdata.get('OPENAI_API_KEY')\n",
        "os.environ['OPENAI_API_KEY'] = OPENAI_API_KEY\n",
        "client = OpenAI()\n",
        "\n",
        "\n",
        "\n",
        "def gptHelperFunction(systemPrompt, modelName, userPrompt):\n",
        "  completion = client.chat.completions.create(\n",
        "    model=modelName,\n",
        "    messages=[\n",
        "        {\"role\": \"system\", \"content\": systemPrompt},\n",
        "        {\n",
        "            \"role\": \"user\",\n",
        "            \"content\": userPrompt,\n",
        "        },\n",
        "    ],\n",
        ")\n",
        "  return completion.choices[0].message.content"
      ],
      "metadata": {
        "id": "5S85TsEAz43W"
      },
      "execution_count": null,
      "outputs": []
    },
    {
      "cell_type": "code",
      "source": [
        "class MathAgent:\n",
        "\n",
        "\n",
        "  def __init__(self, systemPrompt):\n",
        "    self.systemPrompt = systemPrompt\n",
        "    self.messages = []\n",
        "    self.breakdown = \"\"\n",
        "    self.rankingOfSolutions = \"\"\n",
        "    self.proofAttempts = []\n",
        "    self.critiques = []\n",
        "    self.messages.append(systemPrompt)\n",
        "\n",
        "  def breakingDownProblem(self, mathQuestion):\n",
        "    BREAKDOWN_PROMPT += mathQuestion\n",
        "    questionBreakdown = gptHelperFunction(BREAKDOWN_PROMPT, \"gpt-4.1\", mathQuestion)\n",
        "    return questionBreakdown\n",
        "\n",
        "  def identifyAndRankSolutions(self, mathQuestion, questionBreakdown):\n",
        "    optimalSolutionMethod = gptHelperFunction(IDENTIFY_AND_RANK_PROMPT, \"gpt-3.5-turbo\",\n",
        "                                 f\"The question is: {mathQuestion}\\nand the breakdown is: {questionBreakdown}\")\n",
        "    return optimalSolutionMethod\n",
        "\n",
        "  def attemptingProof(self, mathQuestion, questionBreakdown, solution):\n",
        "    proofAttempts = gptHelperFunction(PROOF_ATTEMPT_PROMPT, \"gpt-3.5-turbo\", )\n",
        "    return proofAttempts\n",
        "\n",
        "  def critique(self, mathQuestion, proofAttempts):\n",
        "    critiques = gptHelperFunction(CRITIQUE_PROMPT, \"gpt-3.5-turbo\", )\n",
        "    return critiques\n",
        "\n",
        "  def __call__(self, mathQuestion):\n",
        "    self.breakdown = breakingDownProblem(mathQuestion)\n",
        "\n",
        "    self.rankingOfSolutions = identifyAndRankSolutions(mathQuestion, self.breakdown)\n",
        "\n",
        "    self.proofAttempts += attemptingProof(mathQuestion, self.breakdown, self.rankingOfSolutions[0], self.critiques)\n",
        "\n",
        "    self.critiques = critique(mathQuestion, self.proofAttempts)\n",
        "\n",
        "    while self.critiques:\n",
        "\n",
        "      self.proofAttempts += attemptingProof(mathQuestion, self.breakdown, self.rankingOfSolutions[0])\n",
        "      self.critiques = critique(mathQuestion, self.proofAttempts[-1])\n",
        "\n",
        "    return self.proofAttempts\n",
        "\n",
        "\n",
        "\n",
        "\n",
        "\n",
        "\n"
      ],
      "metadata": {
        "id": "3rA7Y4lc7CHq"
      },
      "execution_count": null,
      "outputs": []
    }
  ]
}