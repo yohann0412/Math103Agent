{
  "nbformat": 4,
  "nbformat_minor": 0,
  "metadata": {
    "colab": {
      "provenance": [],
      "authorship_tag": "ABX9TyOFd5G4gMsR1/+MM+Gd9DwT"
    },
    "kernelspec": {
      "name": "python3",
      "display_name": "Python 3"
    },
    "language_info": {
      "name": "python"
    }
  },
  "cells": [
    {
      "cell_type": "code",
      "execution_count": null,
      "metadata": {
        "id": "uR4cuesDzguO"
      },
      "outputs": [],
      "source": [
        "SYSTEM_PROMPT = '''\n",
        "\n",
        "\n",
        "'''"
      ]
    },
    {
      "cell_type": "code",
      "source": [
        "PROOF_ATTEMPT_PROMPT = ''' You are now writing a full proof of the abstract algebra problem using the chosen strategy, and are also given the problem breakdown (optional) to assist you. Your job is only to write the proof, clearly and rigorously.\n",
        "This may be any iteration of trying to fix a past solution, or a different strategy, so there may optionally be critiques to be careful of.\n",
        "\n",
        "Follow these constraints:\n",
        "- Be explicit in your reasoning.\n",
        "- Do not skip steps.\n",
        "- Assume the reader knows abstract algebra, but write with clarity.\n",
        "- avoid circular reasoning or any logical fallacies\n",
        "\n",
        "Do not reflect on the quality of the proof. Do not critique it. Just output the best version of the proof you can.\n",
        "\n",
        "'''"
      ],
      "metadata": {
        "id": "CEVZRJu1ztvS"
      },
      "execution_count": 5,
      "outputs": []
    },
    {
      "cell_type": "code",
      "source": [
        "BREAKDOWN_PROMPT = '''\n",
        "You are an abstract algebra problem solver. Your only task is to break down the problem into clearly defined parts.\n",
        "\n",
        "Step 1: Categorize the problem — what type of problem is it? (e.g. proving irreducibility, finding ideals, checking if something is a PID, etc.)\n",
        "\n",
        "Step 2: Preparse — what are the key objects involved (rings, elements, ideals, etc.)? What definitions or theorems might be relevant?\n",
        "\n",
        "Step 3: Rephrase the goal in your own words, making it crystal clear what must be proven.\n",
        "\n",
        "Only do the above three things. Do not suggest ways to solve it. Do not do any algebra.\n",
        "\n",
        "The problem will be given straight by the user.\n",
        "\n",
        "'''"
      ],
      "metadata": {
        "id": "IcBvzt00FtMy"
      },
      "execution_count": 6,
      "outputs": []
    },
    {
      "cell_type": "code",
      "source": [
        "IDENTIFY_AND_RANK_PROMPT = '''\n",
        "\n",
        "You are continuing from a prior breakdown of an abstract algebra problem. Your task is to identify **distinct** ways to attempt a solution — no more than 3.\n",
        "\n",
        "For each strategy:\n",
        "- Give a 1-line name for the method.\n",
        "- Give a 1–2 sentence explanation of how the method would be used to attempt the proof.\n",
        "\n",
        "Then, rank the strategies from most promising to least promising. Use criteria such as alignment with the problem type, likelihood of success, and simplicity.\n",
        "\n",
        "Do not perform any steps of the proof. Only identify and rank strategies.\n",
        "\n",
        "I will send the problem first, followed by the breakdown.\n",
        "\n",
        "Based on your reasoning, return the best proof strategy, with a brief, clear explanation of how to do it.\n",
        "'''"
      ],
      "metadata": {
        "id": "jZd6agZnFx0E"
      },
      "execution_count": 7,
      "outputs": []
    },
    {
      "cell_type": "code",
      "source": [
        "CRITIQUE_PROMPT = '''\n",
        "You are now evaluating a proof of an abstract algebra problem. Your task is only to critique it.\n",
        "Check for:\n",
        "- Logical errors\n",
        "- Gaps or missing justifications\n",
        "- Use of incorrect definitions\n",
        "- Any unclear or imprecise statements\n",
        "\n",
        "At the end, answer these questions:\n",
        "- Is anything majorly wrong with this proof? (Yes/No)\n",
        "- If yes, should we attempt a different proof strategy instead?\n",
        "\n",
        "If after your analysis, the answer to both questions is no, explicitly say \"there is nothing wrong with this\".\n",
        "Do not propose fixes. Just critique.\n",
        "\n",
        "\n",
        "'''"
      ],
      "metadata": {
        "id": "vpfkHXUdF0i-"
      },
      "execution_count": 8,
      "outputs": []
    },
    {
      "cell_type": "code",
      "source": [
        "REVISION_PROMPT = '''\n",
        "You are an abstract algebra master revising a proof based on specific critiques for a given question.\n",
        "\n",
        "Revise the original proof to directly address all valid concerns in the critique:\n",
        "- Fix any logical or mathematical errors.\n",
        "- Clarify unclear steps or imprecise language.\n",
        "- Preserve the original strategy and structure unless the critique says it is fundamentally flawed.\n",
        "\n",
        "Do not introduce new proof techniques unless explicitly told to. Only revise what is necessary.\n",
        "\n",
        "'''"
      ],
      "metadata": {
        "id": "tmkQ4r44W-YM"
      },
      "execution_count": 9,
      "outputs": []
    },
    {
      "cell_type": "markdown",
      "source": [
        "# How do you solve a math equation?\n",
        "\n",
        "1. CATEGORIZE IT INTO A TYPE OF PROBLEM\n",
        "2. PREPARSE THE PROBLEM - figure out what the 'objects' are, what we're broadly dealing with.\n",
        "Once the category of the problem is clear, and we have an idea of the tools we are dealing with:\n",
        "- break down steps to prove the question\n",
        "- understand all fundamental properties of the object(s) we are dealing with\n",
        "- proceed in logical steps, ensuring each step builds on the previous, with no skips or fallacies\n",
        "- verify that the goal was achieved and that all assumptions were used or acknowledged"
      ],
      "metadata": {
        "id": "1mYK09MBz-lK"
      }
    },
    {
      "cell_type": "markdown",
      "source": [
        "## Agent properties:\n",
        "- System prompt\n",
        "- messages\n",
        "- breakdown of question, including understanding whats going on\n",
        "- the actual solution\n",
        "- the edge case detector / rigor detector\n",
        "- reviewing the math and rewriting it. repeating this till we have a solution that is satisfactory."
      ],
      "metadata": {
        "id": "j6mm48Ob4fuN"
      }
    },
    {
      "cell_type": "markdown",
      "source": [
        "**First node** -  breakdown the question\\\n",
        "**Second Node** - start thinking of some ways to do it\\\n",
        "**Third node** - rank the ways to solve it\\\n",
        "**Fourth node** - write out the proof to solve it\\\n",
        "**Fifth node** - critique the proof, is there anything wrong with it? rigor, clarity, communication etc.\\\n",
        "send it back to the previous node, till we either reach the turn limit or its saying theres no proper issues. Ask it if theres something majorly wrong, and if so, we can use another proof technique.\n",
        "Return.\n"
      ],
      "metadata": {
        "id": "lrcssC7I5iZh"
      }
    },
    {
      "cell_type": "code",
      "source": [
        "from openai import OpenAI\n",
        "import os\n",
        "from google.colab import userdata\n",
        "OPENAI_API_KEY = userdata.get('OPENAI_API_KEY')\n",
        "os.environ['OPENAI_API_KEY'] = OPENAI_API_KEY\n",
        "client = OpenAI()\n",
        "\n",
        "\n",
        "\n",
        "def gptHelperFunction(systemPrompt, modelName, userPrompt):\n",
        "  completion = client.chat.completions.create(\n",
        "    model=modelName,\n",
        "    messages=[\n",
        "        {\"role\": \"system\", \"content\": systemPrompt},\n",
        "        {\n",
        "            \"role\": \"user\",\n",
        "            \"content\": userPrompt,\n",
        "        },\n",
        "    ],\n",
        ")\n",
        "  return completion.choices[0].message.content"
      ],
      "metadata": {
        "id": "5S85TsEAz43W"
      },
      "execution_count": 10,
      "outputs": []
    },
    {
      "cell_type": "code",
      "source": [
        "class MathAgent:\n",
        "\n",
        "\n",
        "  def __init__(self):\n",
        "    self.breakdown = \"\"\n",
        "    self.rankingOfSolutions = \"\"\n",
        "    self.proofAttempts = []\n",
        "    self.critiques = []\n",
        "\n",
        "  def breakingDownProblem(self, mathQuestion):\n",
        "    questionBreakdown = gptHelperFunction(BREAKDOWN_PROMPT, \"gpt-4.1\", mathQuestion)\n",
        "    return questionBreakdown\n",
        "\n",
        "  def identifyAndRankSolutions(self, mathQuestion, questionBreakdown):\n",
        "    optimalSolutionMethod = gptHelperFunction(IDENTIFY_AND_RANK_PROMPT, \"gpt-3.5-turbo\",\n",
        "            f\"The question is: {mathQuestion}\\nand the breakdown is: {questionBreakdown}\")\n",
        "    return optimalSolutionMethod\n",
        "\n",
        "  def attemptingProof(self, mathQuestion, questionBreakdown, solution):\n",
        "    proofAttempt = gptHelperFunction(PROOF_ATTEMPT_PROMPT, \"gpt-4.1\",\n",
        "              f\"The question is: {mathQuestion}\\nand the optimal strategy decided is: {solution}\"\n",
        "                        )\n",
        "    return proofAttempt\n",
        "\n",
        "  def critique(self, mathQuestion, proofAttempts):\n",
        "    critiques = gptHelperFunction(CRITIQUE_PROMPT, \"gpt-4.1\",\n",
        "              f\"The question is: {mathQuestion}\\nand the proof is: {proofAttempts}\"\n",
        "                                  )\n",
        "    return critiques\n",
        "\n",
        "  def revisions(self, mathQuestion, mostRecentProofAttempt, mostRecentCritiques):\n",
        "    newPrompt = \"\"\"\n",
        "Here is the question:\n",
        "{}\n",
        "Here is the original proof:\n",
        "{}\n",
        "\n",
        "Here is the critique of the proof:\n",
        "{}\n",
        "\n",
        "Revise the original proof to directly address all valid concerns\n",
        "\"\"\".format(mathQuestion, mostRecentProofAttempt, mostRecentCritiques)\n",
        "\n",
        "    revisedProof = gptHelperFunction(REVISION_PROMPT, \"gpt-4.1\", newPrompt)\n",
        "    return revisedProof\n",
        "\n",
        "\n",
        "  def __call__(self, mathQuestion):\n",
        "    self.breakdown = self.breakingDownProblem(mathQuestion)\n",
        "    print(self.breakdown + \"\\n\")\n",
        "\n",
        "    self.rankingOfSolutions = self.identifyAndRankSolutions(mathQuestion, self.breakdown)\n",
        "    print(self.rankingOfSolutions + \"\\n\")\n",
        "\n",
        "    self.proofAttempts.append(self.attemptingProof(mathQuestion, self.breakdown, self.rankingOfSolutions))\n",
        "\n",
        "    self.critiques.append(self.critique(mathQuestion, self.proofAttempts[-1]))\n",
        "\n",
        "    while True:\n",
        "      if \"there is nothing wrong with this\" in self.critiques[-1].lower():\n",
        "        print(f\"Criticism analysis: {self.critiques[-1]}\")\n",
        "        return self.proofAttempts[-1]\n",
        "\n",
        "      self.proofAttempts.append(self.revisions(mathQuestion, self.proofAttempts[-1], self.critiques[-1]))\n",
        "      self.critiques.append(self.critique(mathQuestion, self.proofAttempts[-1]))\n",
        "\n",
        "      print(f\"Most recent proof attempt: {self.proofAttempts[-1]}\")\n",
        "      print(f\"Most recent critique: {self.critiques[-1]}\")\n",
        "\n",
        "      humanInTheLoop = input(\"Press quit to quit, or add some feedback: \")\n",
        "      if humanInTheLoop == \"quit\":\n",
        "        continue\n",
        "      else:\n",
        "        self.critiques[-1] = self.critiques[-1] + humanInTheLoop\n",
        "\n",
        "\n",
        "\n",
        "\n",
        "\n",
        "\n",
        "\n",
        "\n",
        "\n"
      ],
      "metadata": {
        "id": "3rA7Y4lc7CHq"
      },
      "execution_count": 14,
      "outputs": []
    },
    {
      "cell_type": "code",
      "source": [
        "myMathAgent = MathAgent()\n",
        "myMathAgent(\"prove that a minimal polynomial is irreducible\")"
      ],
      "metadata": {
        "colab": {
          "base_uri": "https://localhost:8080/",
          "height": 1000
        },
        "id": "SmfSF21wZAVv",
        "outputId": "8872d0c3-1695-4484-b554-ba893347ef75"
      },
      "execution_count": 15,
      "outputs": [
        {
          "output_type": "stream",
          "name": "stdout",
          "text": [
            "Step 1: Categorize the problem  \n",
            "This is a proof problem, specifically about **proving irreducibility**—you are asked to prove that a certain kind of polynomial (the minimal polynomial) has the property of being irreducible.\n",
            "\n",
            "Step 2: Preparse  \n",
            "Key objects:  \n",
            "- **Minimal polynomial**: Typically refers to the minimal polynomial of an element α over a field F; that is, the monic polynomial of smallest degree in \\( F[x] \\) such that \\( f(\\alpha) = 0 \\).\n",
            "- **Irreducible polynomial**: A non-constant polynomial in \\( F[x] \\) that cannot be written as a product of two non-constant polynomials in \\( F[x] \\).\n",
            "Relevant definitions/theorems:  \n",
            "- Definition of minimal polynomial.\n",
            "- Definition of irreducibility in a polynomial ring over a field.\n",
            "- Properties of polynomial rings, especially over fields (like \\( F[x] \\) being a principal ideal domain).\n",
            "- Connection between roots of polynomials and divisibility.\n",
            "\n",
            "Step 3: Rephrase the goal  \n",
            "You must show that if \\( m(x) \\) is the minimal polynomial of some element over a field, then \\( m(x) \\) cannot be factored non-trivially in \\( F[x] \\); in other words:  \n",
            "**Show that the minimal polynomial of an element over a field is irreducible in the polynomial ring over that field.**\n",
            "\n",
            "1. **Direct Proof Strategy**  \n",
            "   This method involves assuming the minimal polynomial \\( m(x) \\) can be factored non-trivially in \\( F[x] \\) and then arriving at a contradiction by showing how this would contradict its minimality property.\n",
            "   \n",
            "2. **Contrapositive Strategy**  \n",
            "   This approach entails proving the contrapositive statement: if \\( m(x) \\) is reducible in \\( F[x] \\), then it cannot be the minimal polynomial, thus establishing that if \\( m(x) \\) is the minimal polynomial, it must be irreducible.\n",
            "\n",
            "3. **Proof by Contradiction**  \n",
            "   Start by assuming the negation of the statement to be proved, that is, supposing that the minimal polynomial is reducible, and then logically derive a contradiction to show that the original statement must be true.\n",
            "\n",
            "Ranking from most promising to least promising:\n",
            "1. Direct Proof Strategy\n",
            "2. Proof by Contradiction\n",
            "3. Contrapositive Strategy\n",
            "\n",
            "Given the nature of the problem and the clear path of assuming a factorization and deriving a contradiction, the Direct Proof Strategy seems most promising and straightforward to establish the irreducibility of the minimal polynomial.\n",
            "\n",
            "Criticism analysis: Critique of the proof:\n",
            "\n",
            "**Logical errors:**  \n",
            "There are no logical errors in the reasoning. The proof correctly assumes, for contradiction, that the minimal polynomial is reducible, and then shows that one of the proper factors must also vanish at \\(\\alpha\\), violating the minimality of the minimal polynomial's degree.\n",
            "\n",
            "**Gaps or missing justifications:**  \n",
            "- The proof briefly uses the fact that \\(f(\\alpha)g(\\alpha) = 0\\) implies either \\(f(\\alpha) = 0\\) or \\(g(\\alpha) = 0\\). This is justified because \\(K\\) is a field (since \\(K\\) is an extension of the field \\(F\\)), and the product of two elements is zero only if at least one is zero.\n",
            "- The proof properly invokes the minimality property of \\(m_{\\alpha, F}(x)\\) when \\(f(x)\\) or \\(g(x)\\) is assumed to vanish at \\(\\alpha\\).\n",
            "\n",
            "**Use of incorrect definitions:**  \n",
            "No incorrect definitions are present. The definition of the minimal polynomial and of irreducibility is accurate.\n",
            "\n",
            "**Unclear or imprecise statements:**  \n",
            "- The statement \"Without loss of generality (the argument is symmetric), suppose \\(f(\\alpha) = 0\\).\" is a clear and acceptable application of symmetry.\n",
            "- The proof uses standard notation and terminology (e.g., \\( m_{\\alpha,F}(x) \\)), and these are defined at the beginning.\n",
            "\n",
            "---\n",
            "\n",
            "**Is anything majorly wrong with this proof?** No.\n",
            "\n",
            "**If yes, should we attempt a different proof strategy instead?** N/A.\n",
            "\n",
            "**Conclusion:**  \n",
            "There is nothing wrong with this.\n"
          ]
        },
        {
          "output_type": "execute_result",
          "data": {
            "text/plain": [
              "'Let \\\\( F \\\\) be a field, \\\\( K \\\\) an extension field of \\\\( F \\\\), and \\\\( \\\\alpha \\\\in K \\\\) algebraic over \\\\( F \\\\). Denote by \\\\( m_{\\\\alpha,F}(x) \\\\) the minimal polynomial of \\\\( \\\\alpha \\\\) over \\\\( F \\\\).\\n\\n**Claim.** The minimal polynomial \\\\( m_{\\\\alpha,F}(x) \\\\) is irreducible in \\\\( F[x] \\\\).\\n\\n**Proof:**\\n\\nRecall the definition of the minimal polynomial:\\n\\n- \\\\( m_{\\\\alpha,F}(x) \\\\) is monic,\\n- \\\\( m_{\\\\alpha,F}(\\\\alpha) = 0 \\\\),\\n- \\\\( m_{\\\\alpha,F}(x) \\\\) has minimal positive degree among all nonzero polynomials in \\\\( F[x] \\\\) vanishing at \\\\( \\\\alpha \\\\).\\n\\nSuppose, towards a contradiction, that \\\\( m_{\\\\alpha,F}(x) \\\\) is **not** irreducible in \\\\( F[x] \\\\). Then there exist nonconstant polynomials \\\\( f(x), g(x) \\\\in F[x] \\\\) with degrees strictly less than \\\\(\\\\deg m_{\\\\alpha,F}(x)\\\\) such that\\n\\\\[\\nm_{\\\\alpha,F}(x) = f(x) g(x).\\n\\\\]\\n\\nSince \\\\( m_{\\\\alpha,F}(\\\\alpha) = 0 \\\\), we have\\n\\\\[\\nf(\\\\alpha)g(\\\\alpha) = 0.\\n\\\\]\\nIn a field extension, this implies that either \\\\( f(\\\\alpha) = 0 \\\\) or \\\\( g(\\\\alpha) = 0 \\\\).\\n\\nWithout loss of generality (the argument is symmetric), suppose \\\\( f(\\\\alpha) = 0 \\\\).\\n\\nBut then \\\\( f(x) \\\\in F[x] \\\\) is a nonzero polynomial of positive degree less than that of \\\\( m_{\\\\alpha,F}(x) \\\\) (since \\\\(\\\\deg f(x) < \\\\deg m_{\\\\alpha,F}(x)\\\\)) and vanishes at \\\\( \\\\alpha \\\\). This contradicts the minimality of the degree of \\\\( m_{\\\\alpha,F}(x) \\\\).\\n\\nThus, \\\\( m_{\\\\alpha,F}(x) \\\\) cannot be factored into nonconstant factors in \\\\( F[x] \\\\); that is, \\\\( m_{\\\\alpha,F}(x) \\\\) is irreducible in \\\\( F[x] \\\\).\\n\\n\\\\(\\\\boxed{}\\\\)'"
            ],
            "application/vnd.google.colaboratory.intrinsic+json": {
              "type": "string"
            }
          },
          "metadata": {},
          "execution_count": 15
        }
      ]
    }
  ]
}